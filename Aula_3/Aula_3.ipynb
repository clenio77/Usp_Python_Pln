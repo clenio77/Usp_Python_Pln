{
 "cells": [
  {
   "cell_type": "markdown",
   "metadata": {},
   "source": [
    "## *PYTHON PARA PLN LISTA DE EXERCÍCIOS 1* ##"
   ]
  },
  {
   "cell_type": "markdown",
   "metadata": {
    "heading_collapsed": true
   },
   "source": [
    "### *1. Crie três variáveis e atribua os valores a seguir: a=1, b=5.9 e c=‘teste’. A partir disso, retorne o tipo de cada uma das variáveis.* ###"
   ]
  },
  {
   "cell_type": "code",
   "execution_count": 1,
   "metadata": {
    "ExecuteTime": {
     "end_time": "2021-09-25T19:51:45.024411Z",
     "start_time": "2021-09-25T19:51:45.021094Z"
    },
    "hidden": true
   },
   "outputs": [
    {
     "name": "stdout",
     "output_type": "stream",
     "text": [
      "Tipo da variável A:  <class 'int'>\n",
      "Tipo da variável B:  <class 'float'>\n",
      "Tipo da variável C:  <class 'str'>\n"
     ]
    }
   ],
   "source": [
    "a = 1; b = 5.9; c= 'teste'\n",
    "print('Tipo da variável A: ',type(a))\n",
    "print('Tipo da variável B: ',type(b))\n",
    "print('Tipo da variável C: ',type(c))"
   ]
  },
  {
   "cell_type": "markdown",
   "metadata": {
    "heading_collapsed": true
   },
   "source": [
    "### *2. Troque o valor da variável a por ‘1’ e verifique se o tipo da variável mudou.* ##"
   ]
  },
  {
   "cell_type": "code",
   "execution_count": 2,
   "metadata": {
    "ExecuteTime": {
     "end_time": "2021-09-25T19:51:46.016558Z",
     "start_time": "2021-09-25T19:51:46.009682Z"
    },
    "hidden": true
   },
   "outputs": [
    {
     "name": "stdout",
     "output_type": "stream",
     "text": [
      "Tipo da variável A:  <class 'str'>\n"
     ]
    }
   ],
   "source": [
    "a = '1'\n",
    "\n",
    "# verificando se o tipo da variável mudou\n",
    "print('Tipo da variável A: ',type(a))"
   ]
  },
  {
   "cell_type": "markdown",
   "metadata": {
    "heading_collapsed": true
   },
   "source": [
    "### *3. Faça a soma da variável b com a variável c. Interprete a saída, tanto em caso de execução correta quanto em caso de execução com erro.* ###"
   ]
  },
  {
   "cell_type": "code",
   "execution_count": 3,
   "metadata": {
    "ExecuteTime": {
     "end_time": "2021-09-25T19:51:46.840672Z",
     "start_time": "2021-09-25T19:51:46.796401Z"
    },
    "hidden": true
   },
   "outputs": [
    {
     "ename": "TypeError",
     "evalue": "unsupported operand type(s) for +: 'float' and 'str'",
     "output_type": "error",
     "traceback": [
      "\u001b[0;31m---------------------------------------------------------------------------\u001b[0m",
      "\u001b[0;31mTypeError\u001b[0m                                 Traceback (most recent call last)",
      "\u001b[0;32m<ipython-input-3-4f3ee804b7b1>\u001b[0m in \u001b[0;36m<module>\u001b[0;34m\u001b[0m\n\u001b[0;32m----> 1\u001b[0;31m \u001b[0msoma\u001b[0m \u001b[0;34m=\u001b[0m \u001b[0mb\u001b[0m \u001b[0;34m+\u001b[0m \u001b[0mc\u001b[0m\u001b[0;34m\u001b[0m\u001b[0;34m\u001b[0m\u001b[0m\n\u001b[0m\u001b[1;32m      2\u001b[0m \u001b[0mprint\u001b[0m\u001b[0;34m(\u001b[0m\u001b[0msoma\u001b[0m\u001b[0;34m)\u001b[0m\u001b[0;34m\u001b[0m\u001b[0;34m\u001b[0m\u001b[0m\n",
      "\u001b[0;31mTypeError\u001b[0m: unsupported operand type(s) for +: 'float' and 'str'"
     ]
    }
   ],
   "source": [
    "soma = b + c\n",
    "print(soma)"
   ]
  },
  {
   "cell_type": "markdown",
   "metadata": {
    "hidden": true
   },
   "source": [
    "#### traduzindo o erro da execução, não é suportado operações de soma entre os tipos Float(numerico) e Str(texto)####"
   ]
  },
  {
   "cell_type": "markdown",
   "metadata": {
    "heading_collapsed": true
   },
   "source": [
    "### *4. Crie uma lista com números de 0 a 9 (em qualquer ordem). Com ela, faça:* ###\n"
   ]
  },
  {
   "cell_type": "code",
   "execution_count": 4,
   "metadata": {
    "ExecuteTime": {
     "end_time": "2021-09-25T19:51:48.266782Z",
     "start_time": "2021-09-25T19:51:48.264418Z"
    },
    "hidden": true
   },
   "outputs": [],
   "source": [
    "lista = [1,3,2,4,6,5,8,0,9,7]"
   ]
  },
  {
   "cell_type": "markdown",
   "metadata": {
    "hidden": true
   },
   "source": [
    "#### a. Adicione o número 6 ####"
   ]
  },
  {
   "cell_type": "code",
   "execution_count": 5,
   "metadata": {
    "ExecuteTime": {
     "end_time": "2021-09-25T19:51:50.214185Z",
     "start_time": "2021-09-25T19:51:50.206642Z"
    },
    "hidden": true
   },
   "outputs": [],
   "source": [
    "lista.append(6)"
   ]
  },
  {
   "cell_type": "markdown",
   "metadata": {
    "hidden": true
   },
   "source": [
    "#### b. Insira o número 7 na 3ª posição da lista ####"
   ]
  },
  {
   "cell_type": "code",
   "execution_count": 6,
   "metadata": {
    "ExecuteTime": {
     "end_time": "2021-09-25T19:51:51.789787Z",
     "start_time": "2021-09-25T19:51:51.781846Z"
    },
    "hidden": true
   },
   "outputs": [],
   "source": [
    "lista[2] = 7"
   ]
  },
  {
   "cell_type": "code",
   "execution_count": 7,
   "metadata": {
    "ExecuteTime": {
     "end_time": "2021-09-25T19:51:52.759343Z",
     "start_time": "2021-09-25T19:51:52.756628Z"
    },
    "hidden": true
   },
   "outputs": [
    {
     "name": "stdout",
     "output_type": "stream",
     "text": [
      "[1, 3, 7, 4, 6, 5, 8, 0, 9, 7, 6]\n"
     ]
    }
   ],
   "source": [
    "print(lista)"
   ]
  },
  {
   "cell_type": "markdown",
   "metadata": {
    "hidden": true
   },
   "source": [
    "#### c. Remova o elemento 3 da lista ####"
   ]
  },
  {
   "cell_type": "code",
   "execution_count": 8,
   "metadata": {
    "ExecuteTime": {
     "end_time": "2021-09-25T19:51:57.623509Z",
     "start_time": "2021-09-25T19:51:57.614274Z"
    },
    "hidden": true
   },
   "outputs": [
    {
     "name": "stdout",
     "output_type": "stream",
     "text": [
      "[1, 7, 4, 6, 5, 8, 0, 9, 7, 6]\n"
     ]
    }
   ],
   "source": [
    "lista.remove(3)\n",
    "print(lista)"
   ]
  },
  {
   "cell_type": "markdown",
   "metadata": {
    "hidden": true
   },
   "source": [
    "#### d. Adicione o número 4 ####"
   ]
  },
  {
   "cell_type": "code",
   "execution_count": 9,
   "metadata": {
    "ExecuteTime": {
     "end_time": "2021-09-25T19:52:14.915466Z",
     "start_time": "2021-09-25T19:52:14.910100Z"
    },
    "hidden": true
   },
   "outputs": [
    {
     "name": "stdout",
     "output_type": "stream",
     "text": [
      "[1, 7, 4, 6, 5, 8, 0, 9, 7, 6, 4]\n"
     ]
    }
   ],
   "source": [
    "lista.append(4)\n",
    "print(lista)"
   ]
  },
  {
   "cell_type": "markdown",
   "metadata": {
    "hidden": true
   },
   "source": [
    "#### e. Verifique o número de ocorrências do número 4 na lista ####"
   ]
  },
  {
   "cell_type": "code",
   "execution_count": 12,
   "metadata": {
    "ExecuteTime": {
     "end_time": "2021-09-25T19:56:02.640198Z",
     "start_time": "2021-09-25T19:56:02.634630Z"
    },
    "hidden": true
   },
   "outputs": [
    {
     "name": "stdout",
     "output_type": "stream",
     "text": [
      "A quantidade de vezes que o 4 aparece na lista é:  2\n"
     ]
    }
   ],
   "source": [
    "print( 'A quantidade de vezes que o 4 aparece na lista é: ', lista.count(4))"
   ]
  },
  {
   "cell_type": "markdown",
   "metadata": {
    "ExecuteTime": {
     "end_time": "2021-09-25T20:06:28.027438Z",
     "start_time": "2021-09-25T20:06:28.024165Z"
    },
    "heading_collapsed": true
   },
   "source": [
    "### *5. Ainda com a lista criada na questão anterior, faça:* ###\n"
   ]
  },
  {
   "cell_type": "markdown",
   "metadata": {
    "heading_collapsed": true,
    "hidden": true
   },
   "source": [
    "#### a. Retorne os primeiros 3 elementos da lista ####"
   ]
  },
  {
   "cell_type": "code",
   "execution_count": 15,
   "metadata": {
    "ExecuteTime": {
     "end_time": "2021-09-25T20:11:30.757445Z",
     "start_time": "2021-09-25T20:11:30.754682Z"
    },
    "hidden": true
   },
   "outputs": [
    {
     "name": "stdout",
     "output_type": "stream",
     "text": [
      "Os três primeiro elementos da lista é:  [1, 7, 4]\n"
     ]
    }
   ],
   "source": [
    "print('Os três primeiro elementos da lista é: ',lista[:3])"
   ]
  },
  {
   "cell_type": "markdown",
   "metadata": {
    "heading_collapsed": true,
    "hidden": true
   },
   "source": [
    "#### b. Retorne os elementos que estão da 3ª posição até a 7ª posição da lista ####"
   ]
  },
  {
   "cell_type": "code",
   "execution_count": 18,
   "metadata": {
    "ExecuteTime": {
     "end_time": "2021-09-25T20:14:06.902577Z",
     "start_time": "2021-09-25T20:14:06.899656Z"
    },
    "hidden": true
   },
   "outputs": [
    {
     "name": "stdout",
     "output_type": "stream",
     "text": [
      "[1, 7, 4, 6, 5, 8, 0, 9, 7, 6, 4]\n",
      "Os elementos entre a 3ª e a 7ª posição são:  [6, 5, 8, 0]\n"
     ]
    }
   ],
   "source": [
    "print(lista)\n",
    "print('Os elementos entre a 3ª e a 7ª posição são: ', lista[3:7])"
   ]
  },
  {
   "cell_type": "markdown",
   "metadata": {
    "heading_collapsed": true,
    "hidden": true
   },
   "source": [
    "#### c. Retorne os elementos da lista de 3 em 3 elementos ####"
   ]
  },
  {
   "cell_type": "code",
   "execution_count": 20,
   "metadata": {
    "ExecuteTime": {
     "end_time": "2021-09-25T20:15:09.002762Z",
     "start_time": "2021-09-25T20:15:08.999451Z"
    },
    "hidden": true
   },
   "outputs": [
    {
     "name": "stdout",
     "output_type": "stream",
     "text": [
      "[1, 7, 4, 6, 5, 8, 0, 9, 7, 6, 4]\n",
      "[1, 6, 0, 6]\n"
     ]
    }
   ],
   "source": [
    "print(lista)\n",
    "print(lista[::3])"
   ]
  },
  {
   "cell_type": "markdown",
   "metadata": {
    "heading_collapsed": true,
    "hidden": true
   },
   "source": [
    "#### d. Retorne os 3 últimos elementos da lista ####"
   ]
  },
  {
   "cell_type": "code",
   "execution_count": 23,
   "metadata": {
    "ExecuteTime": {
     "end_time": "2021-09-25T20:17:05.554124Z",
     "start_time": "2021-09-25T20:17:05.548246Z"
    },
    "hidden": true
   },
   "outputs": [
    {
     "name": "stdout",
     "output_type": "stream",
     "text": [
      "[1, 7, 4, 6, 5, 8, 0, 9, 7, 6, 4]\n",
      "Os 3 ultimos elementos da lista são:  [7, 6, 4]\n"
     ]
    }
   ],
   "source": [
    "print(lista)\n",
    "print('Os 3 ultimos elementos da lista são: ', lista[-3:])"
   ]
  },
  {
   "cell_type": "markdown",
   "metadata": {
    "hidden": true
   },
   "source": [
    "#### e. Retorne todos os elementos menos os 4 últimos da lista ####"
   ]
  },
  {
   "cell_type": "code",
   "execution_count": 24,
   "metadata": {
    "ExecuteTime": {
     "end_time": "2021-09-25T20:18:35.130544Z",
     "start_time": "2021-09-25T20:18:35.127028Z"
    },
    "hidden": true
   },
   "outputs": [
    {
     "name": "stdout",
     "output_type": "stream",
     "text": [
      "[1, 7, 4, 6, 5, 8, 0, 9, 7, 6, 4]\n",
      "Os elementos da lista menos os 4 ultimos são:  [1, 7, 4, 6, 5, 8, 0]\n"
     ]
    }
   ],
   "source": [
    "print(lista)\n",
    "print('Os elementos da lista menos os 4 ultimos são: ', lista[:-4])"
   ]
  },
  {
   "cell_type": "markdown",
   "metadata": {
    "heading_collapsed": true
   },
   "source": [
    "### *6. Com a lista das questões anteriores, retorne o 6º elemento da lista.* ###"
   ]
  },
  {
   "cell_type": "code",
   "execution_count": 28,
   "metadata": {
    "ExecuteTime": {
     "end_time": "2021-09-25T20:21:41.625899Z",
     "start_time": "2021-09-25T20:21:41.623353Z"
    },
    "hidden": true
   },
   "outputs": [
    {
     "name": "stdout",
     "output_type": "stream",
     "text": [
      "[1, 7, 4, 6, 5, 8, 0, 9, 7, 6, 4]\n",
      "O 6ª elemento da lista é:  8\n"
     ]
    }
   ],
   "source": [
    "print(lista)\n",
    "print('O 6ª elemento da lista é: ', lista[5])"
   ]
  },
  {
   "cell_type": "markdown",
   "metadata": {
    "heading_collapsed": true
   },
   "source": [
    "### *7. Altere o valor do 7º elemento da lista para o valor 12.* ###"
   ]
  },
  {
   "cell_type": "code",
   "execution_count": 29,
   "metadata": {
    "ExecuteTime": {
     "end_time": "2021-09-25T20:23:30.868617Z",
     "start_time": "2021-09-25T20:23:30.865714Z"
    },
    "hidden": true
   },
   "outputs": [
    {
     "name": "stdout",
     "output_type": "stream",
     "text": [
      "[1, 7, 4, 6, 5, 8, 0, 9, 7, 6, 4]\n",
      "[1, 7, 4, 6, 5, 8, 12, 9, 7, 6, 4]\n"
     ]
    }
   ],
   "source": [
    "print(lista)\n",
    "lista[6] = 12\n",
    "print(lista)"
   ]
  },
  {
   "cell_type": "markdown",
   "metadata": {
    "heading_collapsed": true
   },
   "source": [
    "### *8. Inverta a ordem dos elementos na lista.* ###"
   ]
  },
  {
   "cell_type": "code",
   "execution_count": 35,
   "metadata": {
    "ExecuteTime": {
     "end_time": "2021-09-25T20:30:47.413083Z",
     "start_time": "2021-09-25T20:30:47.409429Z"
    },
    "hidden": true
   },
   "outputs": [
    {
     "name": "stdout",
     "output_type": "stream",
     "text": [
      "[1, 7, 4, 6, 5, 8, 12, 9, 7, 6, 4]\n",
      "[4, 6, 7, 9, 12, 8, 5, 6, 4, 7, 1]\n"
     ]
    }
   ],
   "source": [
    "print(lista)\n",
    "lista.reverse()\n",
    "print(lista )"
   ]
  },
  {
   "cell_type": "markdown",
   "metadata": {
    "heading_collapsed": true
   },
   "source": [
    "### *9. Ordene a lista.* ###"
   ]
  },
  {
   "cell_type": "code",
   "execution_count": 37,
   "metadata": {
    "ExecuteTime": {
     "end_time": "2021-09-25T20:32:46.581155Z",
     "start_time": "2021-09-25T20:32:46.564102Z"
    },
    "hidden": true
   },
   "outputs": [
    {
     "name": "stdout",
     "output_type": "stream",
     "text": [
      "[1, 4, 4, 5, 6, 6, 7, 7, 8, 9, 12]\n",
      "A lista ordenada é:  [1, 4, 4, 5, 6, 6, 7, 7, 8, 9, 12]\n"
     ]
    }
   ],
   "source": [
    "print(lista)\n",
    "lista.sort()\n",
    "print('A lista ordenada é: ', lista)\n"
   ]
  },
  {
   "cell_type": "markdown",
   "metadata": {
    "heading_collapsed": true
   },
   "source": [
    "### *10. Crie uma tupla com números de 0 a 9 (em qualquer ordem) e tente:* ###"
   ]
  },
  {
   "cell_type": "code",
   "execution_count": 1,
   "metadata": {
    "ExecuteTime": {
     "end_time": "2021-10-01T23:34:54.270774Z",
     "start_time": "2021-10-01T23:34:54.266197Z"
    },
    "hidden": true
   },
   "outputs": [],
   "source": [
    "myTuple = (3,2,4,1,7,8,9,0,5)"
   ]
  },
  {
   "cell_type": "markdown",
   "metadata": {
    "hidden": true
   },
   "source": [
    "#### a. Alterar o valor do 3º elemento da tupla para o valor 10 ####"
   ]
  },
  {
   "cell_type": "code",
   "execution_count": 4,
   "metadata": {
    "ExecuteTime": {
     "end_time": "2021-10-01T23:35:30.575895Z",
     "start_time": "2021-10-01T23:35:30.572916Z"
    },
    "hidden": true
   },
   "outputs": [
    {
     "name": "stdout",
     "output_type": "stream",
     "text": [
      "(3, 2, 4, 1, 7, 8, 9, 0, 5)\n"
     ]
    }
   ],
   "source": [
    "print(myTuple)\n",
    "#myTuple(2) = 10\n",
    "#print(myTuple)"
   ]
  },
  {
   "cell_type": "markdown",
   "metadata": {
    "hidden": true
   },
   "source": [
    "b. Verificar o índice (posição) do valor 5 na tupla"
   ]
  },
  {
   "cell_type": "code",
   "execution_count": 10,
   "metadata": {
    "ExecuteTime": {
     "end_time": "2021-10-01T23:42:40.880487Z",
     "start_time": "2021-10-01T23:42:40.873939Z"
    },
    "hidden": true
   },
   "outputs": [
    {
     "name": "stdout",
     "output_type": "stream",
     "text": [
      "8\n"
     ]
    }
   ],
   "source": [
    "indice = myTuple.index(5,0,9)\n",
    "print(indice)"
   ]
  },
  {
   "cell_type": "markdown",
   "metadata": {},
   "source": [
    "### *11. Crie um dicionário com 5 entradas e suas respectivas chaves e valores. Faça:* ###"
   ]
  },
  {
   "cell_type": "markdown",
   "metadata": {
    "heading_collapsed": true
   },
   "source": [
    "#### *a. Imprima todas as chaves do dicionário* ####"
   ]
  },
  {
   "cell_type": "code",
   "execution_count": 13,
   "metadata": {
    "ExecuteTime": {
     "end_time": "2021-10-01T23:52:19.984463Z",
     "start_time": "2021-10-01T23:52:19.979753Z"
    },
    "hidden": true
   },
   "outputs": [
    {
     "name": "stdout",
     "output_type": "stream",
     "text": [
      "dict_keys(['name', 'sobrenome', 'rua', 'idade', 'bairro'])\n"
     ]
    }
   ],
   "source": [
    "# Criando um dicionário vazio\n",
    "dict = {}\n",
    "\n",
    "# Colocando chaves e valores no dicionário\n",
    "dict['name'] = 'joão'\n",
    "dict['sobrenome'] = 'Clesio'\n",
    "dict['rua'] = 'Manoel Carlos'\n",
    "dict['idade'] = 42\n",
    "dict['bairro'] = 'centro'\n",
    "\n",
    "# imprimindo as chaves\n",
    "print(dict.keys())\n",
    "\n"
   ]
  },
  {
   "cell_type": "markdown",
   "metadata": {
    "heading_collapsed": true
   },
   "source": [
    "#### *b. Imprima todos os valores do dicionário*#####"
   ]
  },
  {
   "cell_type": "code",
   "execution_count": 14,
   "metadata": {
    "ExecuteTime": {
     "end_time": "2021-10-01T23:54:03.274042Z",
     "start_time": "2021-10-01T23:54:03.271608Z"
    },
    "hidden": true
   },
   "outputs": [
    {
     "name": "stdout",
     "output_type": "stream",
     "text": [
      "dict_values(['joão', 'Clesio', 'Manoel Carlos', 42, 'centro'])\n"
     ]
    }
   ],
   "source": [
    "print(dict.values())"
   ]
  },
  {
   "cell_type": "markdown",
   "metadata": {
    "heading_collapsed": true
   },
   "source": [
    "#### *c. Imprima todos os itens do dicionário* ####"
   ]
  },
  {
   "cell_type": "code",
   "execution_count": 15,
   "metadata": {
    "ExecuteTime": {
     "end_time": "2021-10-01T23:55:04.800523Z",
     "start_time": "2021-10-01T23:55:04.795326Z"
    },
    "hidden": true
   },
   "outputs": [
    {
     "name": "stdout",
     "output_type": "stream",
     "text": [
      "{'name': 'joão', 'sobrenome': 'Clesio', 'rua': 'Manoel Carlos', 'idade': 42, 'bairro': 'centro'}\n"
     ]
    }
   ],
   "source": [
    "print(dict)"
   ]
  },
  {
   "cell_type": "markdown",
   "metadata": {
    "heading_collapsed": true
   },
   "source": [
    "#### *d. Imprima o 2º item do dicionário* ####"
   ]
  },
  {
   "cell_type": "code",
   "execution_count": 41,
   "metadata": {
    "ExecuteTime": {
     "end_time": "2021-10-02T00:34:18.834558Z",
     "start_time": "2021-10-02T00:34:18.828430Z"
    },
    "hidden": true
   },
   "outputs": [
    {
     "data": {
      "text/plain": [
       "'sobrenome'"
      ]
     },
     "execution_count": 41,
     "metadata": {},
     "output_type": "execute_result"
    }
   ],
   "source": [
    "list(dict.keys())[1]"
   ]
  },
  {
   "cell_type": "markdown",
   "metadata": {
    "heading_collapsed": true
   },
   "source": [
    "#### *e. Imprima o dicionário completo* ####"
   ]
  },
  {
   "cell_type": "code",
   "execution_count": 30,
   "metadata": {
    "ExecuteTime": {
     "end_time": "2021-10-02T00:16:16.230908Z",
     "start_time": "2021-10-02T00:16:16.228115Z"
    },
    "hidden": true
   },
   "outputs": [
    {
     "name": "stdout",
     "output_type": "stream",
     "text": [
      "{'name': 'joão', 'sobrenome': 'Clesio', 'rua': 'Manoel Carlos', 'idade': 42, 'bairro': 'centro'}\n"
     ]
    }
   ],
   "source": [
    "print(dict)"
   ]
  },
  {
   "cell_type": "markdown",
   "metadata": {
    "heading_collapsed": true
   },
   "source": [
    "#### *f. Percorra o dicionário, imprimindo para cada entrada o modelo “(chave) tem como valor (valor)”* ####"
   ]
  },
  {
   "cell_type": "code",
   "execution_count": 39,
   "metadata": {
    "ExecuteTime": {
     "end_time": "2021-10-02T00:26:38.384677Z",
     "start_time": "2021-10-02T00:26:38.381257Z"
    },
    "hidden": true
   },
   "outputs": [
    {
     "name": "stdout",
     "output_type": "stream",
     "text": [
      "name joão\n",
      "sobrenome Clesio\n",
      "rua Manoel Carlos\n",
      "idade 42\n",
      "bairro centro\n"
     ]
    }
   ],
   "source": [
    "for chave, valor in dict.items():\n",
    "    print(chave, valor)"
   ]
  },
  {
   "cell_type": "code",
   "execution_count": null,
   "metadata": {
    "hidden": true
   },
   "outputs": [],
   "source": []
  },
  {
   "cell_type": "markdown",
   "metadata": {
    "heading_collapsed": true
   },
   "source": [
    "#### .... continue ####"
   ]
  }
 ],
 "metadata": {
  "kernelspec": {
   "display_name": "Python 3",
   "language": "python",
   "name": "python3"
  },
  "language_info": {
   "codemirror_mode": {
    "name": "ipython",
    "version": 3
   },
   "file_extension": ".py",
   "mimetype": "text/x-python",
   "name": "python",
   "nbconvert_exporter": "python",
   "pygments_lexer": "ipython3",
   "version": "3.7.4"
  },
  "nbTranslate": {
   "displayLangs": [
    "*"
   ],
   "hotkey": "alt-t",
   "langInMainMenu": true,
   "sourceLang": "en",
   "targetLang": "fr",
   "useGoogleTranslate": true
  }
 },
 "nbformat": 4,
 "nbformat_minor": 2
}
